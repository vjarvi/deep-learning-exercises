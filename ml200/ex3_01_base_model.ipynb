{
  "cells": [
    {
      "cell_type": "markdown",
      "id": "87907475",
      "metadata": {
        "id": "87907475"
      },
      "source": [
        "**Important! Please do not remove any cells, including the test cells, even if they appear empty. They contain hidden tests, and deleting them could result in a loss of points, as the exercises are graded automatically. Only edit the cells where you are instructed to write your solution.**"
      ]
    },
    {
      "cell_type": "markdown",
      "id": "90f7199d-c442-4732-ab89-83bda42682a7",
      "metadata": {
        "deletable": false,
        "editable": false,
        "nbgrader": {
          "cell_type": "markdown",
          "checksum": "864163bd351b2da5871afe1c947dbc58",
          "grade": false,
          "grade_id": "cell-b2bf973e50b54a30",
          "locked": true,
          "schema_version": 3,
          "solution": false,
          "task": false
        },
        "tags": [],
        "id": "90f7199d-c442-4732-ab89-83bda42682a7"
      },
      "source": [
        "# Exercise 3: Deep Learning Practices\n",
        "\n",
        "In this exercise, you will familiarize yourself with various deep learning practices, including hyper-parameter tuning, regularization, and optimization techniques. You will apply these techniques within the context of a binary classification task designed to classify a given audio file as either speech or music. Please refer to the \"ex3_instructions.pdf\" file for a complete description of the problem and the applied techniques.\n",
        "\n",
        "Code Template\n",
        "\n",
        "To complete this assignment, you will progress through four different stages (tasks):\n",
        "\n",
        "**Task 1. Basic model architecture, training, and testing loops (5 points)**\n",
        "\n",
        "**Task 2. Fine-tuning practices (5 points)**\n",
        "\n",
        "**Task 3. Optimization practices (5 points)**\n",
        "\n",
        "**Task 4. Regularization practices (5 points)**\n",
        "\n",
        "### **Deliverables:**\n",
        "\n",
        "Please submit the completed notebooks below, along with all the requested trained models (.pth) for the corresponding subtasks.\n",
        "\n",
        "* ex3_01_base_model.ipynb\n",
        "* ex3_02_hyperparameter_tuning.ipynb\n",
        "* ex3_03_optimization.ipynb\n",
        "* ex3_04_regularization.ipynb\n",
        "* 'base_model.pth'\n",
        "* 'relu_model.pth'\n",
        "* 'lr_model.pth'\n",
        "* 'shuffle_model.pth'\n",
        "* 'bs_model.pth'\n",
        "* 'SGD_model.pth'\n",
        "* 'normalized_model.pth'\n",
        "* 'pooled_model.pth'\n",
        "\n",
        "### **Data**\n",
        "\n",
        "The dataset used for this exercise consists of a collection of audio .wav files, each with a duration of 5 seconds. You can find and download the data from the Moodle page of the course (Exercise 3). The dataset is provided as a ~150 MB ZIP file on Moodle. Please download the data and extract it into the same folder as the exercise files, naming the folder \"dataset_ex3.\" The \"dataset_ex3\" folder includes \"speech_wav\" and \"music_wav\" folders, each containing audio files for speech and music, respectively.\n",
        "\n",
        "*Note:* Your dataset path should point to the \"dataset_ex3\" folder, which contains the \"speech\" and \"music\" sub-folders. Be mindful of any extra folder levels that may be created when extracting the \"dataset_ex3.zip\" file.\n",
        "\n",
        "After downloading the data and setting up the folders, you are ready to begin the exercise tasks. Let's get started!\n"
      ]
    },
    {
      "cell_type": "markdown",
      "id": "219ed6c0-92b9-4ca5-8b9f-71995799314f",
      "metadata": {
        "deletable": false,
        "editable": false,
        "nbgrader": {
          "cell_type": "markdown",
          "checksum": "de1e254764b4be6353ec0849d4672da8",
          "grade": false,
          "grade_id": "cell-91357d14fc99d39d",
          "locked": true,
          "schema_version": 3,
          "solution": false,
          "task": false
        },
        "tags": [],
        "id": "219ed6c0-92b9-4ca5-8b9f-71995799314f"
      },
      "source": [
        "## Task 1: Basic Model Design and Training (5 Points)\n",
        "\n",
        "In this task, you will design and train a basic model for a speech versus music audio classification task. The model takes an audio signal as input and outputs a class label predicting whether the audio signal is speech or music. This exercise uses a convolutional neural network model.\n",
        "\n",
        "Your task is to design the basic block of the neural model, write a training loop function to train the model for several epochs, and implement a validation function to test the model's performance on the validation set.\n",
        "\n",
        "### Summary of Tasks for This Stage\n",
        "\n",
        "**Task 1.1: Design the model architecture** (2 points)\n",
        "\n",
        "**Task 1.2 & Task 1.3: Complete the training and validation loops** (2 points)\n",
        "\n",
        "**Successful run of the submitted 'base_model.pth'** (1 point)\n",
        "\n",
        "### Deliverables from this task:\n",
        "\n",
        "* ex3_01_base_model.ipynb\n",
        "* 'base_model.pth'"
      ]
    },
    {
      "cell_type": "code",
      "execution_count": null,
      "id": "b6f8445f",
      "metadata": {
        "editable": true,
        "tags": [],
        "id": "b6f8445f"
      },
      "outputs": [],
      "source": [
        "skip_training = False   # You can set it to True if you want to run inference on your trained model."
      ]
    },
    {
      "cell_type": "code",
      "execution_count": null,
      "id": "2644c92a-195e-42a9-b63b-0f58e1f13518",
      "metadata": {
        "deletable": false,
        "editable": false,
        "nbgrader": {
          "cell_type": "code",
          "checksum": "b68dce5af274ba1b727d3e111bc7e14c",
          "grade": true,
          "grade_id": "cell-19ab751311f3561a",
          "locked": true,
          "points": 0,
          "schema_version": 3,
          "solution": false,
          "task": false
        },
        "tags": [],
        "id": "2644c92a-195e-42a9-b63b-0f58e1f13518"
      },
      "outputs": [],
      "source": [
        "# Do not delete this cell"
      ]
    },
    {
      "cell_type": "markdown",
      "id": "cbdb6f08",
      "metadata": {
        "deletable": false,
        "editable": false,
        "nbgrader": {
          "cell_type": "markdown",
          "checksum": "8527fd780788625a34b40348b30de440",
          "grade": false,
          "grade_id": "cell-39478e54ddb16815",
          "locked": true,
          "schema_version": 3,
          "solution": false,
          "task": false
        },
        "tags": [],
        "id": "cbdb6f08"
      },
      "source": [
        "Import all necessary libraries."
      ]
    },
    {
      "cell_type": "code",
      "execution_count": null,
      "id": "0b6feccd",
      "metadata": {
        "editable": true,
        "tags": [],
        "id": "0b6feccd"
      },
      "outputs": [],
      "source": [
        "import librosa\n",
        "import os\n",
        "import numpy as np\n",
        "import matplotlib.pyplot as plt\n",
        "import time\n",
        "import torch\n",
        "import torch.nn as nn\n",
        "import random\n",
        "\n",
        "# Set random seeds for all libraries\n",
        "random.seed(1)\n",
        "np.random.seed(1)\n",
        "torch.manual_seed(1)\n",
        "torch.cuda.manual_seed(1)\n",
        "torch.cuda.manual_seed_all(1)\n",
        "\n",
        "# Ensure deterministic behavior\n",
        "torch.backends.cudnn.deterministic = True\n",
        "torch.backends.cudnn.benchmark = False"
      ]
    },
    {
      "cell_type": "markdown",
      "id": "607dc4e5",
      "metadata": {
        "deletable": false,
        "editable": false,
        "nbgrader": {
          "cell_type": "markdown",
          "checksum": "535faf5a7df324791294b2fd542d2d89",
          "grade": false,
          "grade_id": "cell-815c797e06bdf55a",
          "locked": true,
          "schema_version": 3,
          "solution": false,
          "task": false
        },
        "tags": [],
        "id": "607dc4e5"
      },
      "source": [
        "Select the device"
      ]
    },
    {
      "cell_type": "code",
      "execution_count": null,
      "id": "1a9f32a0",
      "metadata": {
        "deletable": false,
        "editable": false,
        "nbgrader": {
          "cell_type": "code",
          "checksum": "9eacc450433871df27b00b1227860e0d",
          "grade": false,
          "grade_id": "cell-075e2f04c4527e01",
          "locked": true,
          "schema_version": 3,
          "solution": false,
          "task": false
        },
        "tags": [],
        "id": "1a9f32a0"
      },
      "outputs": [],
      "source": [
        "device = torch.device('cuda' if torch.cuda.is_available() else 'cpu')"
      ]
    },
    {
      "cell_type": "markdown",
      "id": "b4929157-7d8f-4e84-85f6-c56ea7093ae1",
      "metadata": {
        "deletable": false,
        "editable": false,
        "nbgrader": {
          "cell_type": "markdown",
          "checksum": "48f0dbb62b9f1b633e140140b58fd3f2",
          "grade": false,
          "grade_id": "cell-172f7e1657a03eb1",
          "locked": true,
          "schema_version": 3,
          "solution": false,
          "task": false
        },
        "tags": [],
        "id": "b4929157-7d8f-4e84-85f6-c56ea7093ae1"
      },
      "source": [
        "Add the data path"
      ]
    },
    {
      "cell_type": "code",
      "execution_count": null,
      "id": "959359d2-e60b-4dec-a5eb-d7dabe3f1a5f",
      "metadata": {
        "editable": true,
        "tags": [],
        "id": "959359d2-e60b-4dec-a5eb-d7dabe3f1a5f"
      },
      "outputs": [],
      "source": [
        "path = \"dataset_ex3\" # you can change the path if you want to store the dataset somewhere else.\n",
        "#!unzip dataset_ex3.zip # unzipped the dataset\n",
        "#%ls dataset_ex3"
      ]
    },
    {
      "cell_type": "code",
      "execution_count": null,
      "id": "905cfe39-11bc-4c1a-9b6b-1d392a7bbd2c",
      "metadata": {
        "deletable": false,
        "editable": false,
        "nbgrader": {
          "cell_type": "code",
          "checksum": "63ec67478d6d210d0d333ae8d6cd039c",
          "grade": true,
          "grade_id": "cell-ca1abf7548a13d3b",
          "locked": true,
          "points": 0,
          "schema_version": 3,
          "solution": false,
          "task": false
        },
        "tags": [],
        "id": "905cfe39-11bc-4c1a-9b6b-1d392a7bbd2c"
      },
      "outputs": [],
      "source": [
        "# Do not delete this cell"
      ]
    },
    {
      "cell_type": "markdown",
      "id": "1dba344f-2f48-480b-b7d6-12477de74883",
      "metadata": {
        "deletable": false,
        "editable": false,
        "nbgrader": {
          "cell_type": "markdown",
          "checksum": "bf8bd222db763e5c1320182ded13f0e3",
          "grade": false,
          "grade_id": "cell-7c596fcb34b41adf",
          "locked": true,
          "schema_version": 3,
          "solution": false,
          "task": false
        },
        "tags": [],
        "id": "1dba344f-2f48-480b-b7d6-12477de74883"
      },
      "source": [
        "The cell below defines a function for preparing a list of audio file paths from specified directories. It reads .wav files for each class (music and speech), shuffles the data, and splits it into training and validation sets based on the given validation split ratio."
      ]
    },
    {
      "cell_type": "code",
      "execution_count": null,
      "id": "5e103218-0b12-41a5-bde9-c0a75dcf6b2a",
      "metadata": {
        "deletable": false,
        "editable": false,
        "nbgrader": {
          "cell_type": "code",
          "checksum": "1628f89211d4dedf6a8f3c2d48dd1e45",
          "grade": false,
          "grade_id": "cell-0b510316e6abc0a6",
          "locked": true,
          "schema_version": 3,
          "solution": false,
          "task": false
        },
        "tags": [],
        "id": "5e103218-0b12-41a5-bde9-c0a75dcf6b2a"
      },
      "outputs": [],
      "source": [
        "def prepare_file_list(path, validation_split):\n",
        "\n",
        "    audio_class_names = ['music', 'speech']\n",
        "    data_directories = {'music': path + '/music_wav',\n",
        "                        'speech': path + '/speech_wav'}\n",
        "\n",
        "    audio_files = {class_name: [] for class_name in audio_class_names}\n",
        "    for class_name in audio_class_names:\n",
        "        folder = data_directories[class_name]\n",
        "        filelist = os.listdir(folder)\n",
        "        for filename in filelist:\n",
        "            if filename.endswith('.wav'):\n",
        "                audio_files[class_name].append(os.path.join(folder, filename))\n",
        "\n",
        "    np.random.seed(1)\n",
        "    dataset_split = {'train': [], 'val': []}\n",
        "    for class_id, class_name in enumerate(audio_class_names):\n",
        "        n_data = len(audio_files[class_name])\n",
        "        random_indices = np.random.permutation(n_data)\n",
        "        n_validation = int(validation_split * n_data)\n",
        "        val_indices = random_indices[:n_validation]\n",
        "        train_indices = random_indices[n_validation:]\n",
        "        dataset_split['train'] += [(audio_files[class_name][k], class_id) for k in train_indices]\n",
        "        dataset_split['val'] += [(audio_files[class_name][k], class_id) for k in val_indices]\n",
        "    return dataset_split\n"
      ]
    },
    {
      "cell_type": "markdown",
      "id": "43dca19b",
      "metadata": {
        "deletable": false,
        "editable": false,
        "nbgrader": {
          "cell_type": "markdown",
          "checksum": "bf0049f1e83f99f9ff707d0db00cd6c8",
          "grade": false,
          "grade_id": "cell-22b248cfaa787f2f",
          "locked": true,
          "schema_version": 3,
          "solution": false,
          "task": false
        },
        "tags": [],
        "id": "43dca19b"
      },
      "source": [
        "### Dataset Class\n",
        "\n",
        "Run the cell below to define the dataset class. The .wav files are read using the \"librosa\" library. The sample time indicates the duration to sample from each .wav file. The starting point for sampling is set to zero (the beginning of the file) to ensure consistency across different trials."
      ]
    },
    {
      "cell_type": "code",
      "execution_count": null,
      "id": "c5b0c90d",
      "metadata": {
        "deletable": false,
        "editable": false,
        "nbgrader": {
          "cell_type": "code",
          "checksum": "d0c57f2d663b0b2c49856904236a6083",
          "grade": false,
          "grade_id": "cell-fd34e9909ec1cfec",
          "locked": true,
          "schema_version": 3,
          "solution": false,
          "task": false
        },
        "tags": [],
        "id": "c5b0c90d"
      },
      "outputs": [],
      "source": [
        "class MSDataset(torch.utils.data.Dataset):\n",
        "\n",
        "    def __init__(self, filelist, sample_sec=5., is_train=True):\n",
        "        self.filelist = filelist\n",
        "        self.time_duration = sample_sec\n",
        "        self.is_train = is_train\n",
        "\n",
        "        _, sf = librosa.load(filelist[0][0], sr = None)\n",
        "        self.sf = sf\n",
        "        self.n_features = int(self.time_duration * sf)\n",
        "\n",
        "    def __len__(self):\n",
        "        return len(self.filelist)\n",
        "\n",
        "    def __getitem__(self, i):\n",
        "        audio_file, class_id = self.filelist[i]\n",
        "        x, sf = librosa.load(audio_file, sr = None)\n",
        "        k = 0\n",
        "\n",
        "        x = torch.from_numpy(x[k:k+self.n_features]).reshape(1,-1)\n",
        "\n",
        "        return x, class_id\n"
      ]
    },
    {
      "cell_type": "markdown",
      "id": "a3883c8c",
      "metadata": {
        "deletable": false,
        "editable": false,
        "nbgrader": {
          "cell_type": "markdown",
          "checksum": "3117fa47f730b0a9aff7e82d5a2429e7",
          "grade": false,
          "grade_id": "cell-75f3e757b02541e9",
          "locked": true,
          "schema_version": 3,
          "solution": false,
          "task": false
        },
        "tags": [],
        "id": "a3883c8c"
      },
      "source": [
        "### Task 1.1: Model Architecture\n",
        "\n",
        "In this task, you will design the model and implement the training and testing loops based on the given instructions.\n",
        "\n",
        "In the **\"MyModel\"** template below, which is designed to define the model class, fill in the blanks to complete the model architecture according to the provided instructions.\n",
        "\n",
        "The **BasicBlock** class serves as a fundamental building block for constructing convolutional networks. It consists of a convolutional layer followed by a non-linear activation function.\n",
        "\n",
        "![Slide1.jpg](attachment:f53cfbd8-d23b-4e43-8dc3-a26e5a951836.jpg)\n",
        "\n",
        "useful links:\n",
        "* https://pytorch.org/docs/stable/generated/torch.nn.Conv1d.html\n",
        "* https://pytorch.org/docs/stable/generated/torch.nn.AdaptiveAvgPool1d.html\n",
        "* https://pytorch.org/docs/stable/generated/torch.nn.Flatten.html\n",
        "* https://pytorch.org/docs/stable/generated/torch.nn.LogSoftmax.html"
      ]
    },
    {
      "cell_type": "code",
      "execution_count": null,
      "id": "bcf843f0",
      "metadata": {
        "deletable": false,
        "editable": true,
        "nbgrader": {
          "cell_type": "code",
          "checksum": "7f2df18ff9b5e17baeb2abe8dae1c29c",
          "grade": false,
          "grade_id": "cell-e5164bd6c4c4c02f",
          "locked": false,
          "schema_version": 3,
          "solution": true,
          "task": false
        },
        "tags": [],
        "id": "bcf843f0"
      },
      "outputs": [],
      "source": [
        "class BasicBlock(nn.Module):\n",
        "    def __init__(self, in_channels, out_channels, nonlin=\"Tanh\"):\n",
        "        super().__init__()\n",
        "        self.conv_layer = nn.Conv1d(in_channels=in_channels,\n",
        "                                    out_channels=out_channels,\n",
        "                                    kernel_size=11,\n",
        "                                    stride=5)\n",
        "        if nonlin == \"ELU\":\n",
        "            self.activation_fn = nn.ELU()\n",
        "        elif nonlin == \"ReLU\":\n",
        "            self.activation_fn = nn.ReLU()\n",
        "        elif nonlin == \"Tanh\":\n",
        "            self.activation_fn = nn.Tanh()\n",
        "\n",
        "    def forward(self, x):\n",
        "        x = self.conv_layer(x)\n",
        "        x = self.activation_fn(x)\n",
        "        return x\n",
        "\n",
        "class MyModel(nn.Module):\n",
        "    def __init__(self, nonlin =\"Tanh\"):\n",
        "        super().__init__()\n",
        "\n",
        "        # your code here for initializing layers\n",
        "        # 1. Create the first hidden layer using BasicBlock\n",
        "        #    - Input channels: 1\n",
        "        #    - Output channels: 32\n",
        "        #    - Activation function: specified by 'nonlin'\n",
        "        # 2. Create the second hidden layer using BasicBlock\n",
        "        #    - Activation function: specified by 'nonlin'\n",
        "        # 3. Create the third hidden layer using BasicBlock\n",
        "        #    - Input channels: 32 (from the output of the second layer)\n",
        "        #    - Output channels: 2 (for the final output classes)\n",
        "        #    - Activation function: specified by 'nonlin'\n",
        "        # 4. Create a global average pooling layer to reduce the spatial dimensions\n",
        "        # 5. Create a flattening layer to flatten the output for the final layer\n",
        "        # 6. Set the output activation function for classification\n",
        "\n",
        "        # YOUR CODE HERE\n",
        "        self.hidden_1 = BasicBlock(1, 32, nonlin)\n",
        "        self.hidden_2 = BasicBlock(32, 32, nonlin)\n",
        "        self.hidden_3 = BasicBlock(32, 2, nonlin)\n",
        "        self.global_avg_pool = nn.AdaptiveAvgPool1d(1)\n",
        "        self.flatten = nn.Flatten()\n",
        "        self.activation = nn.LogSoftmax(dim=1)\n",
        "\n",
        "\n",
        "\n",
        "    def forward(self, x):\n",
        "        # your code here for calling layers\n",
        "        # 1. Pass the input through the first hidden layer\n",
        "        # 2. Pass the output to the second hidden layer\n",
        "        # 3. Pass the output to the third hidden layer\n",
        "        # 4. Apply global average pooling to reduce dimensions\n",
        "        # 5. Flatten the pooled output\n",
        "        # 6. Apply the output activation function to get the final predictions\n",
        "\n",
        "        # YOUR CODE HERE\n",
        "        x = self.hidden_1(x)\n",
        "        x = self.hidden_2(x)\n",
        "        x = self.hidden_3(x)\n",
        "        x = self.global_avg_pool(x)\n",
        "        x = self.flatten(x)\n",
        "        x = self.activation(x)\n",
        "\n",
        "        return x\n",
        "\n",
        "def get_num_trainable_parameters(model):\n",
        "    num_params = sum(p.numel() for p in model.parameters() if p.requires_grad)\n",
        "    print(f'The model has {num_params} trainable parameters.')\n",
        "    return num_params"
      ]
    },
    {
      "cell_type": "markdown",
      "id": "c2bb21c0-fd91-4dae-b730-5af9eb786ef6",
      "metadata": {
        "deletable": false,
        "editable": false,
        "nbgrader": {
          "cell_type": "markdown",
          "checksum": "4ba4a45296449ea98394ebdd1469c3af",
          "grade": false,
          "grade_id": "cell-3f0cdc956f4ba52f",
          "locked": true,
          "schema_version": 3,
          "solution": false,
          "task": false
        },
        "tags": [],
        "id": "c2bb21c0-fd91-4dae-b730-5af9eb786ef6"
      },
      "source": [
        "Run the cell below to verify the correctness of your solution for the model architecture."
      ]
    },
    {
      "cell_type": "code",
      "execution_count": null,
      "id": "3fcadb39-3077-4449-87e0-594b8b466269",
      "metadata": {
        "deletable": false,
        "editable": false,
        "nbgrader": {
          "cell_type": "code",
          "checksum": "57337c35fe53f424f7b4423df966a67a",
          "grade": true,
          "grade_id": "cell-5bed0448527fcd8b",
          "locked": true,
          "points": 2,
          "schema_version": 3,
          "solution": false,
          "task": false
        },
        "tags": [],
        "id": "3fcadb39-3077-4449-87e0-594b8b466269",
        "colab": {
          "base_uri": "https://localhost:8080/"
        },
        "outputId": "77c638ac-9329-4227-93a7-224e370a8d80"
      },
      "outputs": [
        {
          "output_type": "stream",
          "name": "stdout",
          "text": [
            "The model has 12386 trainable parameters.\n",
            "\u001b[92mGood job! All visible tests passed! You can proceed further.\u001b[0m\n"
          ]
        }
      ],
      "source": [
        "# Visible tests here\n",
        "all_tests_successful = True\n",
        "model = MyModel(\"Tanh\")\n",
        "dummy_input = torch.randn(1, 1, 22000)\n",
        "dummy_output = model(dummy_input)\n",
        "\n",
        "# Test the number of Conv1d layers\n",
        "conv1d_count = sum(1 for layer in model.modules() if isinstance(layer, nn.Conv1d))\n",
        "if conv1d_count != 3:\n",
        "    all_tests_successful = False\n",
        "    raise AssertionError(f\"Expected 3 Conv1d layers, got {conv1d_count}.\")\n",
        "\n",
        "# Check the output shape\n",
        "expected_shape = (1, 2)\n",
        "if dummy_output.shape != expected_shape:\n",
        "    all_tests_successful = False\n",
        "    raise AssertionError(f\"Expected output shape {expected_shape}, but got {dummy_output.shape}.\")\n",
        "\n",
        "# Chech the number of trainable parameters\n",
        "num_params = get_num_trainable_parameters(model)\n",
        "expected_num_parameters = 12386\n",
        "if num_params != expected_num_parameters:\n",
        "    all_tests_successful = False\n",
        "    raise AssertionError(f\"Expected number of trainable parameters {expected_num_parameters}, but got {num_params}.\")\n",
        "\n",
        "# Check the output range for LogSoftmax (should be <= 0)\n",
        "if not torch.all(dummy_output <= 0):\n",
        "    all_tests_successful = False\n",
        "    raise AssertionError(\"The output values are not within the expected range (-∞, 0]. LogSoftmax might be missing.\")\n",
        "\n",
        "if all_tests_successful:\n",
        "    success_str = \"Good job! All visible tests passed! You can proceed further.\"\n",
        "    print(f\"\\033[92m{success_str}\\033[0m\")\n"
      ]
    },
    {
      "cell_type": "markdown",
      "id": "1f09a817",
      "metadata": {
        "deletable": false,
        "editable": false,
        "nbgrader": {
          "cell_type": "markdown",
          "checksum": "fc87be96d4a176dceaea3c16bc5e61ac",
          "grade": false,
          "grade_id": "cell-72d8fc7265f16280",
          "locked": true,
          "schema_version": 3,
          "solution": false,
          "task": false
        },
        "tags": [],
        "id": "1f09a817"
      },
      "source": [
        "### Task 1.2 & Task 1.3: Training and Validation Loops\n",
        "\n",
        "In this task, you will complete the training and validation loops by filling in the blanks according to the provided instructions. The training loop iterates over the dataset to train the model, while the validation loop evaluates the model's performance on a separate validation dataset. The validation loop is called within the training loop to assess the model's accuracy and loss after each training epoch."
      ]
    },
    {
      "cell_type": "code",
      "execution_count": null,
      "id": "6d32c013-1f22-45d3-8c2d-7a2846e7e69f",
      "metadata": {
        "deletable": false,
        "editable": true,
        "nbgrader": {
          "cell_type": "code",
          "checksum": "c8a1210001e933d3019e95df5790dad9",
          "grade": false,
          "grade_id": "cell-7b0618b83492a075",
          "locked": false,
          "schema_version": 3,
          "solution": true,
          "task": false
        },
        "tags": [],
        "id": "6d32c013-1f22-45d3-8c2d-7a2846e7e69f"
      },
      "outputs": [],
      "source": [
        "def training_loop(n_epochs, optim, model, loss_fn, dl_train, dl_val, hist=None):\n",
        "    np.random.seed(1)\n",
        "    if hist is not None:\n",
        "        pass\n",
        "    else:\n",
        "        hist = {'train_loss': [], 'train_accuracy': [], 'val_loss': [], 'val_accuracy': []}\n",
        "\n",
        "    best_accuracy = 0\n",
        "    t_initial = time.time()\n",
        "\n",
        "    for epoch in range(1, n_epochs + 1):\n",
        "        start = time.time()\n",
        "        train_loss, train_accuracy = 0., 0.\n",
        "        num_samples = 0\n",
        "\n",
        "        for input_batch, target_batch in dl_train:\n",
        "            # your code here for minibatch training\n",
        "            # 1. call batch data and labels and set them to the correct device\n",
        "            # 2. make the prediction on the data\n",
        "            # 3. calculate loss\n",
        "            # 4. set optimizer to zero grad\n",
        "            # 5. do backward pass\n",
        "            # 6. move the optimizer one step forward\n",
        "            # YOUR CODE HERE\n",
        "            input_batch = input_batch.to(device)\n",
        "            target_batch = target_batch.to(device)\n",
        "            predictions = model(input_batch)\n",
        "            loss_train = loss_fn(predictions, target_batch)\n",
        "            optim.zero_grad()\n",
        "            loss_train.backward()\n",
        "            optim.step()\n",
        "\n",
        "            # accumulate correct prediction\n",
        "            train_accuracy += (torch.argmax(predictions.detach(), dim=1) == target_batch).sum().item() # number of correct predictions\n",
        "            train_loss += loss_train.item() * input_batch.shape[0]\n",
        "            num_samples += input_batch.shape[0]\n",
        "\n",
        "        train_loss /= num_samples\n",
        "        train_accuracy /= num_samples\n",
        "        val_loss, val_accuracy = validation_loop(model, loss_fn, dl_val)\n",
        "\n",
        "        end = time.time()\n",
        "        epoch_time = round(end - start, 2)\n",
        "        if epoch <= 5 or epoch % 10 == 0 or epoch == n_epochs:\n",
        "             print(f'Epoch {epoch}, train_loss {train_loss:.2f}, train_accuracy: {train_accuracy:.4f}, '\n",
        "                   f'val_loss {val_loss:.2f}, val_accuracy: {val_accuracy:.4f}, time = {epoch_time}')\n",
        "\n",
        "        # record for history return\n",
        "        hist['train_loss'].append(train_loss)\n",
        "        hist['val_loss'].append(val_loss)\n",
        "        hist['train_accuracy'].append(train_accuracy)\n",
        "        hist['val_accuracy'].append(val_accuracy)\n",
        "\n",
        "    t_final = time.time()\n",
        "    t_total = round(t_final - t_initial, 2)\n",
        "    minutes = int(t_total // 60)\n",
        "    seconds = int(t_total % 60)\n",
        "    print(f'Finished training_loop() within {minutes} minutes and {seconds} seconds')\n",
        "    return hist\n",
        "\n",
        "def validation_loop(model, loss_fn, dataloader):\n",
        "    model.eval()\n",
        "    with torch.no_grad():\n",
        "        total_loss, total_accuracy, num_samples = 0., 0., 0.\n",
        "\n",
        "        for input_batch, target_batch in dataloader:\n",
        "            # your code here for minibatch validation\n",
        "            # 1. set input_batch, target_batch to correct device\n",
        "            # 2. make the prediction on input_batch\n",
        "            # 3. calculate loss and add it to previous loss\n",
        "            # 4. obtain predicted class labels from predictions (hint: use torch.argmax)\n",
        "            # YOUR CODE HERE\n",
        "            input_batch = input_batch.to(device)\n",
        "            target_batch = target_batch.to(device)\n",
        "\n",
        "            prediction = model(input_batch)\n",
        "            loss = loss_fn(prediction, target_batch)\n",
        "            total_loss += loss.item() * input_batch.shape[0]\n",
        "            predicted_classes = torch.argmax(prediction.detach(), dim=1)\n",
        "            total_accuracy += (predicted_classes == target_batch).sum().item()\n",
        "            num_samples += len(target_batch)\n",
        "\n",
        "    average_loss = total_loss / num_samples\n",
        "    average_accuracy = total_accuracy / num_samples\n",
        "\n",
        "    return average_loss, average_accuracy\n",
        "\n",
        "def plot_history(history):\n",
        "    fig, axes = plt.subplots(1, 2, figsize=(16, 6))\n",
        "    axes[0].set_title('Loss')\n",
        "    axes[0].plot(history['train_loss'], label='Train')\n",
        "    axes[0].plot(history['val_loss'], label='Validation')\n",
        "    axes[0].legend()\n",
        "\n",
        "    max_val_accuracy = max(history['val_accuracy'])\n",
        "    axes[1].set_title(f'Accuracy (Best: {max_val_accuracy:.2f})')\n",
        "    axes[1].plot(history['train_accuracy'], label='Train')\n",
        "    axes[1].plot(history['val_accuracy'], label='Validation')\n",
        "    axes[1].legend()\n"
      ]
    },
    {
      "cell_type": "markdown",
      "id": "a8458a8f-0aad-4b87-989c-5931e6c47b83",
      "metadata": {
        "deletable": false,
        "editable": false,
        "nbgrader": {
          "cell_type": "markdown",
          "checksum": "cbdc0357acde5e76872566995a118887",
          "grade": false,
          "grade_id": "cell-2737b5363cc22629",
          "locked": true,
          "schema_version": 3,
          "solution": false,
          "task": false
        },
        "tags": [],
        "id": "a8458a8f-0aad-4b87-989c-5931e6c47b83"
      },
      "source": [
        "Run the below cell to check the correctness of your solution for the training loop."
      ]
    },
    {
      "cell_type": "code",
      "execution_count": null,
      "id": "21472033-7961-4ece-a10f-0c1e836c62a3",
      "metadata": {
        "deletable": false,
        "editable": false,
        "nbgrader": {
          "cell_type": "code",
          "checksum": "a8adca0a808805f52f2299e976820796",
          "grade": true,
          "grade_id": "cell-95a0159a4ac49015",
          "locked": true,
          "points": 2,
          "schema_version": 3,
          "solution": false,
          "task": false
        },
        "tags": [],
        "id": "21472033-7961-4ece-a10f-0c1e836c62a3",
        "colab": {
          "base_uri": "https://localhost:8080/"
        },
        "outputId": "548988a8-15b6-470f-8281-3d96b0ffd4f0"
      },
      "outputs": [
        {
          "output_type": "stream",
          "name": "stdout",
          "text": [
            "Epoch 1, train_loss 0.69, train_accuracy: 0.5000, val_loss 0.69, val_accuracy: 0.5000, time = 0.9\n",
            "Finished training_loop() within 0 minutes and 0 seconds\n",
            "\u001b[92mGood job! you can now proceed to train your model.\u001b[0m\n"
          ]
        }
      ],
      "source": [
        "# This cell tests the training code\n",
        "all_tests_successful = True\n",
        "\n",
        "model = MyModel(\"Tanh\").to(device)\n",
        "dummy_optim = torch.optim.SGD(model.parameters(), lr=0.01, momentum=0.9)\n",
        "dummy_loss_fn = nn.CrossEntropyLoss()\n",
        "\n",
        "# Create TensorDataset and DataLoader\n",
        "dummy_inputs = torch.rand(2, 1, 22000).to(device)\n",
        "dummy_labels = torch.randint(0, 2, (2,)).to(device)\n",
        "dummy_dataset = torch.utils.data.TensorDataset(dummy_inputs, dummy_labels)\n",
        "dummy_dl_train = torch.utils.data.DataLoader(dummy_dataset, batch_size=2)\n",
        "dummy_dl_val = torch.utils.data.DataLoader(dummy_dataset, batch_size=8)\n",
        "\n",
        "from unittest.mock import patch, MagicMock\n",
        "\n",
        "with patch('torch.Tensor.backward') as mock_backward, patch.object(dummy_optim, 'step') as mock_step:\n",
        "    training_loop(1, dummy_optim, model, dummy_loss_fn, dummy_dl_train, dummy_dl_val, hist=None)\n",
        "\n",
        "    if mock_backward.called:   # check if .backward() was called\n",
        "        pass\n",
        "    else:\n",
        "        all_tests_successful = False\n",
        "        raise AssertionError(\"You forgot to calculate the gradients.\")\n",
        "\n",
        "    if mock_step.called: # check if .step() is used\n",
        "        pass\n",
        "    else:\n",
        "        all_tests_successful = False\n",
        "        raise AssertionError(\"You forgot to update the weights.\")\n",
        "\n",
        "if all_tests_successful:\n",
        "    success_str = 'Good job! you can now proceed to train your model.'\n",
        "    print(f\"\\033[92m{success_str}\\033[0m\")"
      ]
    },
    {
      "cell_type": "markdown",
      "id": "6d66dc67-7ec3-48b6-9aa6-1b266bcd191c",
      "metadata": {
        "deletable": false,
        "editable": false,
        "nbgrader": {
          "cell_type": "markdown",
          "checksum": "2cca3750733f65a0a183786b57d1b6a7",
          "grade": false,
          "grade_id": "cell-5267860bfbf9c738",
          "locked": true,
          "schema_version": 3,
          "solution": false,
          "task": false
        },
        "tags": [],
        "id": "6d66dc67-7ec3-48b6-9aa6-1b266bcd191c"
      },
      "source": [
        "### Train and Validate\n",
        "\n",
        "Run the cell below to train the model with the following setup:\n",
        "\n",
        "* batch_size = 8\n",
        "* non_linearity = \"Tanh\"\n",
        "* Adam optimizer with learning_rate = 0.0001\n",
        "\n",
        "We will refer to this model as the \"base_model.\" The code will save the model. You are required to submit the trained \"basic_model.pth\" along with the notebook file to Moodle."
      ]
    },
    {
      "cell_type": "code",
      "execution_count": null,
      "id": "b5307fd2",
      "metadata": {
        "deletable": false,
        "editable": false,
        "nbgrader": {
          "cell_type": "code",
          "checksum": "b7f42f93eaf1a97300d05c0f6033e9a0",
          "grade": false,
          "grade_id": "cell-905aa678986fbfcf",
          "locked": true,
          "schema_version": 3,
          "solution": false,
          "task": false
        },
        "tags": [],
        "id": "b5307fd2",
        "colab": {
          "base_uri": "https://localhost:8080/",
          "height": 1000
        },
        "outputId": "19039e8e-b3e2-43a2-954d-a303f061e52b"
      },
      "outputs": [
        {
          "output_type": "stream",
          "name": "stdout",
          "text": [
            "The model has 12386 trainable parameters.\n",
            "Epoch 1, train_loss 0.72, train_accuracy: 0.5000, val_loss 0.70, val_accuracy: 0.5000, time = 1.18\n",
            "Epoch 2, train_loss 0.70, train_accuracy: 0.5000, val_loss 0.70, val_accuracy: 0.5000, time = 0.68\n",
            "Epoch 3, train_loss 0.70, train_accuracy: 0.5000, val_loss 0.69, val_accuracy: 0.5000, time = 0.61\n",
            "Epoch 4, train_loss 0.69, train_accuracy: 0.5000, val_loss 0.69, val_accuracy: 0.5000, time = 0.51\n",
            "Epoch 5, train_loss 0.69, train_accuracy: 0.5000, val_loss 0.69, val_accuracy: 0.5000, time = 0.51\n",
            "Epoch 10, train_loss 0.70, train_accuracy: 0.5000, val_loss 0.69, val_accuracy: 0.5000, time = 0.5\n",
            "Epoch 20, train_loss 0.70, train_accuracy: 0.5000, val_loss 0.69, val_accuracy: 0.5000, time = 0.51\n",
            "Epoch 30, train_loss 0.70, train_accuracy: 0.5000, val_loss 0.69, val_accuracy: 0.5000, time = 0.5\n",
            "Epoch 40, train_loss 0.70, train_accuracy: 0.5000, val_loss 0.69, val_accuracy: 0.5000, time = 0.51\n",
            "Epoch 50, train_loss 0.70, train_accuracy: 0.5000, val_loss 0.69, val_accuracy: 0.5000, time = 0.65\n",
            "Epoch 60, train_loss 0.70, train_accuracy: 0.5000, val_loss 0.69, val_accuracy: 0.5000, time = 0.5\n",
            "Epoch 70, train_loss 0.70, train_accuracy: 0.5000, val_loss 0.69, val_accuracy: 0.5000, time = 0.5\n",
            "Epoch 80, train_loss 0.70, train_accuracy: 0.5000, val_loss 0.69, val_accuracy: 0.5000, time = 0.51\n",
            "Epoch 90, train_loss 0.70, train_accuracy: 0.5000, val_loss 0.69, val_accuracy: 0.5000, time = 0.51\n",
            "Epoch 100, train_loss 0.70, train_accuracy: 0.5000, val_loss 0.69, val_accuracy: 0.5000, time = 0.5\n",
            "Epoch 110, train_loss 0.70, train_accuracy: 0.5000, val_loss 0.69, val_accuracy: 0.5000, time = 0.51\n",
            "Epoch 120, train_loss 0.70, train_accuracy: 0.5000, val_loss 0.69, val_accuracy: 0.5000, time = 0.66\n",
            "Epoch 130, train_loss 0.70, train_accuracy: 0.5000, val_loss 0.69, val_accuracy: 0.5000, time = 0.5\n",
            "Epoch 140, train_loss 0.69, train_accuracy: 0.5000, val_loss 0.69, val_accuracy: 0.5000, time = 0.5\n",
            "Epoch 150, train_loss 0.69, train_accuracy: 0.5000, val_loss 0.69, val_accuracy: 0.5000, time = 0.5\n",
            "Epoch 160, train_loss 0.69, train_accuracy: 0.5000, val_loss 0.69, val_accuracy: 0.5000, time = 0.5\n",
            "Epoch 170, train_loss 0.69, train_accuracy: 0.5000, val_loss 0.69, val_accuracy: 0.5000, time = 0.53\n",
            "Epoch 180, train_loss 0.69, train_accuracy: 0.5111, val_loss 0.69, val_accuracy: 0.5000, time = 0.5\n",
            "Epoch 190, train_loss 0.69, train_accuracy: 0.5111, val_loss 0.68, val_accuracy: 0.5000, time = 0.64\n",
            "Epoch 200, train_loss 0.69, train_accuracy: 0.5111, val_loss 0.68, val_accuracy: 0.5000, time = 0.5\n",
            "Epoch 210, train_loss 0.69, train_accuracy: 0.5111, val_loss 0.68, val_accuracy: 0.5000, time = 0.5\n",
            "Epoch 220, train_loss 0.69, train_accuracy: 0.5111, val_loss 0.67, val_accuracy: 0.5000, time = 0.49\n",
            "Epoch 230, train_loss 0.69, train_accuracy: 0.5111, val_loss 0.67, val_accuracy: 0.5000, time = 0.49\n",
            "Epoch 240, train_loss 0.69, train_accuracy: 0.5111, val_loss 0.66, val_accuracy: 0.5000, time = 0.66\n",
            "Epoch 250, train_loss 0.68, train_accuracy: 0.5222, val_loss 0.66, val_accuracy: 0.5000, time = 0.5\n",
            "Epoch 260, train_loss 0.68, train_accuracy: 0.5333, val_loss 0.65, val_accuracy: 0.5000, time = 0.5\n",
            "Epoch 270, train_loss 0.68, train_accuracy: 0.5111, val_loss 0.64, val_accuracy: 0.5263, time = 0.51\n",
            "Epoch 280, train_loss 0.68, train_accuracy: 0.5111, val_loss 0.64, val_accuracy: 0.5526, time = 0.51\n",
            "Epoch 290, train_loss 0.68, train_accuracy: 0.5111, val_loss 0.63, val_accuracy: 0.5789, time = 0.5\n",
            "Epoch 300, train_loss 0.67, train_accuracy: 0.5111, val_loss 0.63, val_accuracy: 0.5789, time = 0.5\n",
            "Finished training_loop() within 2 minutes and 39 seconds\n"
          ]
        },
        {
          "output_type": "display_data",
          "data": {
            "text/plain": [
              "<Figure size 1600x600 with 2 Axes>"
            ],
            "image/png": "[encoded data removed]"
          },
          "metadata": {}
        }
      ],
      "source": [
        "# data\n",
        "np.random.seed(1)\n",
        "valsplit = 0.30\n",
        "file_list =  prepare_file_list(path, valsplit)\n",
        "sample_sec = 2\n",
        "batch_size = 8\n",
        "data_loader = {tv: torch.utils.data.DataLoader(MSDataset(file_list[tv], sample_sec=sample_sec, is_train=tv=='train'),\n",
        "                                               batch_size=batch_size,\n",
        "                                               shuffle=False) for tv in ['train', 'val']}\n",
        "\n",
        "# model\n",
        "model = MyModel(\"Tanh\").to(device)\n",
        "num_params = get_num_trainable_parameters(model)\n",
        "\n",
        "# optimizer\n",
        "learning_rate = 0.0001\n",
        "optimizer = torch.optim.Adam(model.parameters(), lr=learning_rate)\n",
        "\n",
        "# loss\n",
        "criterion = nn.CrossEntropyLoss().to(device)\n",
        "\n",
        "# history\n",
        "history = None\n",
        "if not skip_training:\n",
        "    history = training_loop(300, optimizer, model, criterion, data_loader['train'], data_loader['val'], history)\n",
        "    torch.save(model.state_dict(), 'base_model.pth')\n",
        "    plot_history(history)\n",
        "else:\n",
        "    model = MyModel(\"Tanh\").to(device)\n",
        "    model.load_state_dict(torch.load('base_model.pth', weights_only=True))\n",
        "    val_loss, val_acc = validation_loop(model, criterion, data_loader['val'])\n",
        "    print(f'val_loss {val_loss:.2f}, val_acc {val_acc:.2f}')"
      ]
    },
    {
      "cell_type": "markdown",
      "id": "b912eda5-39ca-437f-9c8d-5239c0b019bd",
      "metadata": {
        "deletable": false,
        "editable": false,
        "nbgrader": {
          "cell_type": "markdown",
          "checksum": "afb1f62830f8cb7e25a5722356f512a5",
          "grade": false,
          "grade_id": "cell-afae3dc9f598e030",
          "locked": true,
          "schema_version": 3,
          "solution": false,
          "task": false
        },
        "tags": [],
        "id": "b912eda5-39ca-437f-9c8d-5239c0b019bd"
      },
      "source": [
        "Run the below cell to check correctness of your solution for the training and validation performance."
      ]
    },
    {
      "cell_type": "code",
      "execution_count": null,
      "id": "201df992-516e-405c-b193-5e8d0b204bbb",
      "metadata": {
        "deletable": false,
        "editable": false,
        "nbgrader": {
          "cell_type": "code",
          "checksum": "58132b66c5b13b45083941045340cd23",
          "grade": true,
          "grade_id": "cell-347d9a0fafaec773",
          "locked": true,
          "points": 0,
          "schema_version": 3,
          "solution": false,
          "task": false
        },
        "tags": [],
        "id": "201df992-516e-405c-b193-5e8d0b204bbb",
        "colab": {
          "base_uri": "https://localhost:8080/"
        },
        "outputId": "32b07a2a-d4b5-435f-9520-1c97d3945366"
      },
      "outputs": [
        {
          "output_type": "stream",
          "name": "stdout",
          "text": [
            "\u001b[92mAll visible tests for training and validation accuracy passed successfully!\u001b[0m\n"
          ]
        }
      ],
      "source": [
        "# Visible tests for checking the performance of the trained model\n",
        "all_tests_successful = True\n",
        "if not skip_training:\n",
        "    try:\n",
        "\n",
        "        # Test 1: Ensure training accuracy is within the correct range\n",
        "        max_tacc = max(history['train_accuracy'])\n",
        "        if not (0.5 <= max_tacc <= 1):\n",
        "            all_tests_successful = False\n",
        "            raise AssertionError(f\"Training accuracy {max_tacc} is out of the expected range [0.5, 1].\")\n",
        "\n",
        "        # Test 2: Ensure accuracy is within the correct range\n",
        "        max_vacc = max(history['val_accuracy'])\n",
        "        if not (0.5 <= max_vacc <= 1):\n",
        "            all_tests_successful = False\n",
        "            raise AssertionError(f\"Validation accuracy {max_vacc} is out of the expected range [0.5, 1].\")\n",
        "\n",
        "        if all_tests_successful:\n",
        "            print(f\"\\033[92mAll visible tests for training and validation accuracy passed successfully!\\033[0m\")\n",
        "\n",
        "    except AssertionError as e:\n",
        "        print(f\"\\033[91mTest failed: {e}\\033[0m\")\n",
        "\n",
        "else:\n",
        "    print(\"This visible test is applicable only when `skip_training` is set to `False`.\")\n"
      ]
    },
    {
      "cell_type": "code",
      "execution_count": null,
      "id": "d3c13ae8-4c8a-4486-b1dc-3aa5f064dd00",
      "metadata": {
        "deletable": false,
        "editable": false,
        "nbgrader": {
          "cell_type": "code",
          "checksum": "fbf9fd4d61aeee13d1e69f0bdf502cc1",
          "grade": true,
          "grade_id": "cell-5fa94f2e79c80d41",
          "locked": true,
          "points": 1,
          "schema_version": 3,
          "solution": false,
          "task": false
        },
        "tags": [],
        "id": "d3c13ae8-4c8a-4486-b1dc-3aa5f064dd00"
      },
      "outputs": [],
      "source": [
        "# Do not delete this cell"
      ]
    }
  ],
  "metadata": {
    "kernelspec": {
      "display_name": "Python 3",
      "name": "python3"
    },
    "language_info": {
      "codemirror_mode": {
        "name": "ipython",
        "version": 3
      },
      "file_extension": ".py",
      "mimetype": "text/x-python",
      "name": "python",
      "nbconvert_exporter": "python",
      "pygments_lexer": "ipython3",
      "version": "3.8.16"
    },
    "toc": {
      "base_numbering": 0
    },
    "colab": {
      "provenance": [],
      "gpuType": "T4"
    },
    "accelerator": "GPU"
  },
  "nbformat": 4,
  "nbformat_minor": 5
}